{
 "cells": [
  {
   "cell_type": "code",
   "execution_count": 153,
   "id": "eaa6eea9",
   "metadata": {},
   "outputs": [],
   "source": [
    "import random\n",
    "\n",
    "class RandomVerifyCode:\n",
    "    \"\"\"\n",
    "    生成指定n个的验证码，大写字母、小写字母以及数字的随机混合\n",
    "    \"\"\"\n",
    "    def __init__(self, n):\n",
    "        self.n = n\n",
    "    \n",
    "    def random_number(self):\n",
    "        return str(random.randint(0, 9))\n",
    "    \n",
    "    def random_upper(self):\n",
    "        return chr(random.randint(65, 90))\n",
    "    \n",
    "    def random_lower(self):\n",
    "        return chr(random.randint(97, 122))\n",
    "    \n",
    "    @classmethod\n",
    "    def _get_method(cls): \n",
    "        method = [method for method in dir(cls) if not (method.startswith(\"__\") or method.startswith(\"_\"))]\n",
    "        return method\n",
    "    \n",
    "    def _run(self):\n",
    "        method = RandomVerifyCode._get_method()\n",
    "        lst = [] \n",
    "        for i in range(self.n):\n",
    "            which = random.randint(0, len(method)-1)\n",
    "            res = eval('self.' + method[which] + '()')\n",
    "            lst.append(res)\n",
    "        return \"\".join(lst)"
   ]
  },
  {
   "cell_type": "code",
   "execution_count": 154,
   "id": "5ce9a874",
   "metadata": {},
   "outputs": [
    {
     "data": {
      "text/plain": [
       "'aVN5s'"
      ]
     },
     "execution_count": 154,
     "metadata": {},
     "output_type": "execute_result"
    }
   ],
   "source": [
    "rvc = RandomVerifyCode(5)\n",
    "rvc._run()"
   ]
  },
  {
   "cell_type": "code",
   "execution_count": null,
   "id": "96fbc75d",
   "metadata": {},
   "outputs": [],
   "source": []
  },
  {
   "cell_type": "code",
   "execution_count": null,
   "id": "89a85cf7",
   "metadata": {},
   "outputs": [],
   "source": []
  }
 ],
 "metadata": {
  "kernelspec": {
   "display_name": "Python 3",
   "language": "python",
   "name": "python3"
  },
  "language_info": {
   "codemirror_mode": {
    "name": "ipython",
    "version": 3
   },
   "file_extension": ".py",
   "mimetype": "text/x-python",
   "name": "python",
   "nbconvert_exporter": "python",
   "pygments_lexer": "ipython3",
   "version": "3.9.13"
  }
 },
 "nbformat": 4,
 "nbformat_minor": 5
}
