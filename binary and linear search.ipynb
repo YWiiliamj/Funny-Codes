{
 "cells": [
  {
   "cell_type": "markdown",
   "id": "f7bc6d28",
   "metadata": {},
   "source": [
    "### 草稿"
   ]
  },
  {
   "cell_type": "code",
   "execution_count": null,
   "id": "d548e2d8",
   "metadata": {},
   "outputs": [],
   "source": [
    "lst = [12,122,56,59,84,562,822,125,512,5512,220]\n",
    "lst.sort()\n",
    "\n",
    "lst"
   ]
  },
  {
   "cell_type": "code",
   "execution_count": 3,
   "id": "b5a914e4",
   "metadata": {},
   "outputs": [
    {
     "name": "stdout",
     "output_type": "stream",
     "text": [
      "请输入一个数：588\n"
     ]
    }
   ],
   "source": [
    "num = int(input('请输入一个数：'))"
   ]
  },
  {
   "cell_type": "code",
   "execution_count": 4,
   "id": "36b5814e",
   "metadata": {},
   "outputs": [
    {
     "name": "stdout",
     "output_type": "stream",
     "text": [
      "中间位置是： 5\n",
      "左边位置是： 6\n",
      "中间位置是： 8\n",
      "左边位置是： 9\n",
      "中间位置是： 9\n",
      "右边位置是： 8\n",
      "没找到\n"
     ]
    }
   ],
   "source": [
    "left = 0\n",
    "right = len(lst) - 1\n",
    "\n",
    "while left <= right:\n",
    "    mid = (left + right) // 2\n",
    "    print(\"中间位置是：\",mid)\n",
    "    if num < lst[mid]:\n",
    "        right = mid - 1\n",
    "        print(\"右边位置是：\",right)\n",
    "    elif num > lst[mid]:\n",
    "        left = mid + 1\n",
    "        print(\"左边位置是：\",left)\n",
    "    else:\n",
    "        print(\"找到了，是：\", mid)\n",
    "        break\n",
    "else:\n",
    "    print(\"没找到\")"
   ]
  },
  {
   "cell_type": "markdown",
   "id": "8ad22cf6",
   "metadata": {},
   "source": [
    "### 写成函数1——二分查找"
   ]
  },
  {
   "cell_type": "code",
   "execution_count": 1,
   "id": "3f1af988",
   "metadata": {},
   "outputs": [],
   "source": [
    "def find_bisection(lst, left, right, num):\n",
    "\n",
    "    if left > right:\n",
    "        print(\"没找到\")\n",
    "        return \n",
    "    \n",
    "    mid = (left + right) // 2\n",
    "    print(\"中间位置是：\", mid)\n",
    "    if num < lst[mid]:\n",
    "        right = mid - 1\n",
    "        print(\"右边位置是：\",right)\n",
    "    elif num > lst[mid]:\n",
    "        left = mid + 1\n",
    "        print(\"左边位置是：\",left)\n",
    "    else:\n",
    "        print(\"找到了，是：\", mid)\n",
    "        return\n",
    "    find_bisection(lst, left, right, num)"
   ]
  },
  {
   "cell_type": "code",
   "execution_count": 2,
   "id": "baef1d1c",
   "metadata": {},
   "outputs": [
    {
     "data": {
      "text/plain": [
       "[12, 56, 59, 84, 122, 125, 220, 512, 562, 822, 5512]"
      ]
     },
     "execution_count": 2,
     "metadata": {},
     "output_type": "execute_result"
    }
   ],
   "source": [
    "lst = [12,122,56,59,84,562,822,125,512,5512,220]\n",
    "lst.sort()\n",
    "lst"
   ]
  },
  {
   "cell_type": "code",
   "execution_count": 3,
   "id": "13af29d7",
   "metadata": {},
   "outputs": [
    {
     "name": "stdout",
     "output_type": "stream",
     "text": [
      "请输入一个数：512\n"
     ]
    }
   ],
   "source": [
    "num = int(input('请输入一个数：'))"
   ]
  },
  {
   "cell_type": "code",
   "execution_count": 4,
   "id": "d3843b44",
   "metadata": {},
   "outputs": [
    {
     "name": "stdout",
     "output_type": "stream",
     "text": [
      "中间位置是： 5\n",
      "左边位置是： 6\n",
      "中间位置是： 8\n",
      "右边位置是： 7\n",
      "中间位置是： 6\n",
      "左边位置是： 7\n",
      "中间位置是： 7\n",
      "找到了，是： 7\n"
     ]
    }
   ],
   "source": [
    "left = 0\n",
    "right = len(lst) - 1\n",
    "find_bisection(lst, left, right, num)"
   ]
  },
  {
   "cell_type": "markdown",
   "id": "ddc1ce4e",
   "metadata": {},
   "source": [
    "### 写成函数2——二分查找"
   ]
  },
  {
   "cell_type": "code",
   "execution_count": 6,
   "id": "4b54e7d9",
   "metadata": {},
   "outputs": [],
   "source": [
    "def binary_search(lst, val):\n",
    "    left = 0\n",
    "    right = len(lst) - 1\n",
    "    \n",
    "    while left <= right:\n",
    "        mid = (left + right) // 2\n",
    "        if lst[mid] == val:\n",
    "            return mid\n",
    "        elif lst[mid] < val:\n",
    "            left = mid + 1\n",
    "        else:   # lst[mid] > val\n",
    "            right = mid -1\n",
    "    else:\n",
    "        return None"
   ]
  },
  {
   "cell_type": "code",
   "execution_count": 7,
   "id": "8f83f452",
   "metadata": {},
   "outputs": [
    {
     "data": {
      "text/plain": [
       "[12, 56, 59, 84, 122, 125, 220, 512, 562, 822, 5512]"
      ]
     },
     "execution_count": 7,
     "metadata": {},
     "output_type": "execute_result"
    }
   ],
   "source": [
    "lst = [12,122,56,59,84,562,822,125,512,5512,220]\n",
    "lst.sort()\n",
    "lst"
   ]
  },
  {
   "cell_type": "code",
   "execution_count": 9,
   "id": "5659adaf",
   "metadata": {},
   "outputs": [
    {
     "data": {
      "text/plain": [
       "9"
      ]
     },
     "execution_count": 9,
     "metadata": {},
     "output_type": "execute_result"
    }
   ],
   "source": [
    "binary_search(lst, 822)"
   ]
  },
  {
   "cell_type": "code",
   "execution_count": null,
   "id": "afc8b45c",
   "metadata": {},
   "outputs": [],
   "source": []
  },
  {
   "cell_type": "markdown",
   "id": "f567d68c",
   "metadata": {},
   "source": [
    "### 线性查找"
   ]
  },
  {
   "cell_type": "code",
   "execution_count": 48,
   "id": "7c6490df",
   "metadata": {},
   "outputs": [
    {
     "data": {
      "text/plain": [
       "[12, 122, 56, 59, 84, 562, 822, 125, 512, 5512, 220]"
      ]
     },
     "execution_count": 48,
     "metadata": {},
     "output_type": "execute_result"
    }
   ],
   "source": [
    "lst = [12,122,56,59,84,562,822,125,512,5512,220]\n",
    "lst"
   ]
  },
  {
   "cell_type": "code",
   "execution_count": 53,
   "id": "881bc398",
   "metadata": {},
   "outputs": [],
   "source": [
    "def linear_search(lst, val):\n",
    "    for indx, v in enumerate(lst):\n",
    "        if v == val:\n",
    "            return indx\n",
    "    else:\n",
    "        return None"
   ]
  },
  {
   "cell_type": "code",
   "execution_count": 55,
   "id": "494d3ddc",
   "metadata": {},
   "outputs": [
    {
     "data": {
      "text/plain": [
       "10"
      ]
     },
     "execution_count": 55,
     "metadata": {},
     "output_type": "execute_result"
    }
   ],
   "source": [
    "linear_search(lst, 220)"
   ]
  },
  {
   "cell_type": "code",
   "execution_count": null,
   "id": "dd00f3d8",
   "metadata": {},
   "outputs": [],
   "source": []
  },
  {
   "cell_type": "code",
   "execution_count": null,
   "id": "f279d8ce",
   "metadata": {},
   "outputs": [],
   "source": []
  },
  {
   "cell_type": "code",
   "execution_count": null,
   "id": "8fdeb180",
   "metadata": {},
   "outputs": [],
   "source": []
  },
  {
   "cell_type": "code",
   "execution_count": null,
   "id": "e98b467e",
   "metadata": {},
   "outputs": [],
   "source": []
  },
  {
   "cell_type": "code",
   "execution_count": null,
   "id": "e99f6c7c",
   "metadata": {},
   "outputs": [],
   "source": []
  }
 ],
 "metadata": {
  "kernelspec": {
   "display_name": "Python 3",
   "language": "python",
   "name": "python3"
  },
  "language_info": {
   "codemirror_mode": {
    "name": "ipython",
    "version": 3
   },
   "file_extension": ".py",
   "mimetype": "text/x-python",
   "name": "python",
   "nbconvert_exporter": "python",
   "pygments_lexer": "ipython3",
   "version": "3.9.13"
  }
 },
 "nbformat": 4,
 "nbformat_minor": 5
}
