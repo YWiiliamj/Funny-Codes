{
 "cells": [
  {
   "cell_type": "markdown",
   "id": "83465f42",
   "metadata": {},
   "source": [
    "### 1.冒泡排序"
   ]
  },
  {
   "cell_type": "code",
   "execution_count": 6,
   "id": "ce579c17",
   "metadata": {},
   "outputs": [],
   "source": [
    "def bubble_sort(lst):\n",
    "    for i in range(len(lst) - 1):  # 每一趟\n",
    "        for j in range(0, len(lst)-i-1):\n",
    "            if lst[j] > lst[j+1]:\n",
    "                lst[j], lst[j+1] = lst[j+1], lst[j]\n",
    "        print(lst)   # 查看每次排序的过程\n",
    "    return lst"
   ]
  },
  {
   "cell_type": "code",
   "execution_count": 7,
   "id": "d3a3ce60",
   "metadata": {},
   "outputs": [
    {
     "name": "stdout",
     "output_type": "stream",
     "text": [
      "[12, 56, 59, 84, 122, 562, 125, 512, 822, 220, 5512]\n",
      "[12, 56, 59, 84, 122, 125, 512, 562, 220, 822, 5512]\n",
      "[12, 56, 59, 84, 122, 125, 512, 220, 562, 822, 5512]\n",
      "[12, 56, 59, 84, 122, 125, 220, 512, 562, 822, 5512]\n",
      "[12, 56, 59, 84, 122, 125, 220, 512, 562, 822, 5512]\n",
      "[12, 56, 59, 84, 122, 125, 220, 512, 562, 822, 5512]\n",
      "[12, 56, 59, 84, 122, 125, 220, 512, 562, 822, 5512]\n",
      "[12, 56, 59, 84, 122, 125, 220, 512, 562, 822, 5512]\n",
      "[12, 56, 59, 84, 122, 125, 220, 512, 562, 822, 5512]\n",
      "[12, 56, 59, 84, 122, 125, 220, 512, 562, 822, 5512]\n"
     ]
    },
    {
     "data": {
      "text/plain": [
       "[12, 56, 59, 84, 122, 125, 220, 512, 562, 822, 5512]"
      ]
     },
     "execution_count": 7,
     "metadata": {},
     "output_type": "execute_result"
    }
   ],
   "source": [
    "lst = [12,122,56,59,84,562,822,125,512,5512,220]\n",
    "bubble_sort(lst)"
   ]
  },
  {
   "cell_type": "code",
   "execution_count": 38,
   "id": "440d40d8",
   "metadata": {},
   "outputs": [],
   "source": [
    "#### 改进版\n",
    "def bubble_sort(lst):\n",
    "    for i in range(len(lst) - 1):  #每一趟\n",
    "        exchange = False\n",
    "        for j in range(0, len(lst)-i-1):\n",
    "            if lst[j] > lst[j+1]:\n",
    "                lst[j], lst[j+1] = lst[j+1], lst[j]\n",
    "                exchange = True   # 如果发生了交换，exchange变成True\n",
    "        \n",
    "        print(lst)   # 查看每次排序的过程\n",
    "        \n",
    "        if not exchange:  # 如果没有发生交换\n",
    "            return"
   ]
  },
  {
   "cell_type": "code",
   "execution_count": 42,
   "id": "b5faad1b",
   "metadata": {},
   "outputs": [
    {
     "name": "stdout",
     "output_type": "stream",
     "text": [
      "[12, 56, 59, 84, 122, 562, 125, 512, 822, 220, 5512]\n",
      "[12, 56, 59, 84, 122, 125, 512, 562, 220, 822, 5512]\n",
      "[12, 56, 59, 84, 122, 125, 512, 220, 562, 822, 5512]\n",
      "[12, 56, 59, 84, 122, 125, 220, 512, 562, 822, 5512]\n",
      "[12, 56, 59, 84, 122, 125, 220, 512, 562, 822, 5512]\n"
     ]
    }
   ],
   "source": [
    "lst = [12,122,56,59,84,562,822,125,512,5512,220]\n",
    "bubble_sort(lst)"
   ]
  },
  {
   "cell_type": "code",
   "execution_count": 43,
   "id": "264ef41e",
   "metadata": {},
   "outputs": [
    {
     "data": {
      "text/plain": [
       "[12, 56, 59, 84, 122, 125, 220, 512, 562, 822, 5512]"
      ]
     },
     "execution_count": 43,
     "metadata": {},
     "output_type": "execute_result"
    }
   ],
   "source": [
    "lst"
   ]
  },
  {
   "cell_type": "code",
   "execution_count": null,
   "id": "13c42427",
   "metadata": {},
   "outputs": [],
   "source": []
  },
  {
   "cell_type": "markdown",
   "id": "30f9685a",
   "metadata": {},
   "source": [
    "### 2.选择排序"
   ]
  },
  {
   "cell_type": "code",
   "execution_count": 8,
   "id": "5057dd5a",
   "metadata": {},
   "outputs": [],
   "source": [
    "def select_sort(lst):\n",
    "    for i in range(len(lst)-1):\n",
    "        min_loc = i \n",
    "        for j in range(i+1, len(lst)):\n",
    "            if lst[j] < lst[min_loc]:\n",
    "                min_loc = j\n",
    "                \n",
    "        ## 接下来将最小的值和无序区里的第一个值进行交换\n",
    "        lst[min_loc], lst[i] = lst[i], lst[min_loc]  # 在第i趟里，无序区里的第一个值就是i\n",
    "        print(lst)"
   ]
  },
  {
   "cell_type": "code",
   "execution_count": 9,
   "id": "10515645",
   "metadata": {},
   "outputs": [
    {
     "name": "stdout",
     "output_type": "stream",
     "text": [
      "原列表为： [0, 2, 5, 3, 8, 7, 9, 1, 55]\n",
      "[0, 2, 5, 3, 8, 7, 9, 1, 55]\n",
      "[0, 1, 5, 3, 8, 7, 9, 2, 55]\n",
      "[0, 1, 2, 3, 8, 7, 9, 5, 55]\n",
      "[0, 1, 2, 3, 8, 7, 9, 5, 55]\n",
      "[0, 1, 2, 3, 5, 7, 9, 8, 55]\n",
      "[0, 1, 2, 3, 5, 7, 9, 8, 55]\n",
      "[0, 1, 2, 3, 5, 7, 8, 9, 55]\n",
      "[0, 1, 2, 3, 5, 7, 8, 9, 55]\n"
     ]
    }
   ],
   "source": [
    "lst = [0,2,5,3,8,7,9,1,55]\n",
    "print(\"原列表为：\",lst)\n",
    "select_sort(lst)"
   ]
  },
  {
   "cell_type": "code",
   "execution_count": null,
   "id": "f9e53963",
   "metadata": {},
   "outputs": [],
   "source": []
  },
  {
   "cell_type": "markdown",
   "id": "e1d7fe2f",
   "metadata": {},
   "source": [
    "### 3.插入排序"
   ]
  },
  {
   "cell_type": "code",
   "execution_count": 26,
   "id": "0b4ea198",
   "metadata": {},
   "outputs": [],
   "source": [
    "def insert_sort(lst):\n",
    "    for i in range(1, len(lst)):  # 从列表的第二个元素开始进行\n",
    "        \n",
    "        tmp = lst[i] \n",
    "        j = i - 1   # i左边的第一个元素\n",
    "        \n",
    "        while j >= 0 and lst[j] > tmp:  # 没有到最开始的位置，而且左边的元素比tmp大\n",
    "            lst[j+1] = lst[j]   # 挪动位置\n",
    "            j = j - 1\n",
    "        lst[j+1] = tmp   # 跳出了while循环，把tmp写到第j+1的位置上\n",
    "        \n",
    "        print(lst)"
   ]
  },
  {
   "cell_type": "code",
   "execution_count": 27,
   "id": "0b830aed",
   "metadata": {},
   "outputs": [
    {
     "data": {
      "text/plain": [
       "[5, 7, 4, 6, 3, 1, 2, 9, 8]"
      ]
     },
     "execution_count": 27,
     "metadata": {},
     "output_type": "execute_result"
    }
   ],
   "source": [
    "lst = [5,7,4,6,3,1,2,9,8]\n",
    "lst"
   ]
  },
  {
   "cell_type": "code",
   "execution_count": 28,
   "id": "ce434d32",
   "metadata": {},
   "outputs": [
    {
     "name": "stdout",
     "output_type": "stream",
     "text": [
      "[5, 7, 4, 6, 3, 1, 2, 9, 8]\n",
      "[4, 5, 7, 6, 3, 1, 2, 9, 8]\n",
      "[4, 5, 6, 7, 3, 1, 2, 9, 8]\n",
      "[3, 4, 5, 6, 7, 1, 2, 9, 8]\n",
      "[1, 3, 4, 5, 6, 7, 2, 9, 8]\n",
      "[1, 2, 3, 4, 5, 6, 7, 9, 8]\n",
      "[1, 2, 3, 4, 5, 6, 7, 9, 8]\n",
      "[1, 2, 3, 4, 5, 6, 7, 8, 9]\n"
     ]
    },
    {
     "data": {
      "text/plain": [
       "[1, 2, 3, 4, 5, 6, 7, 8, 9]"
      ]
     },
     "execution_count": 28,
     "metadata": {},
     "output_type": "execute_result"
    }
   ],
   "source": [
    "insert_sort(lst)\n",
    "lst"
   ]
  },
  {
   "cell_type": "code",
   "execution_count": null,
   "id": "2d48b6fc",
   "metadata": {},
   "outputs": [],
   "source": []
  },
  {
   "cell_type": "markdown",
   "id": "54cb8c7c",
   "metadata": {},
   "source": [
    "### 4.快速排序"
   ]
  },
  {
   "cell_type": "code",
   "execution_count": 30,
   "id": "fde8bf7b",
   "metadata": {},
   "outputs": [],
   "source": [
    "def partition(lst, left, right):\n",
    "    tmp = lst[left]  # 先把第一个元素保存\n",
    "    while left < right:\n",
    "        \n",
    "        while left < right and lst[right] > tmp:  # 从右往左 找比tmp小的元素，找到就将其填入左边的空位上\n",
    "            right = right - 1\n",
    "        lst[left] = lst[right]\n",
    "        \n",
    "        while left < right and lst[left] < tmp:  # 从左往右 找比tmp大的元素，找到就将其填入右边的空位上\n",
    "            left = left + 1\n",
    "        lst[right] = lst[left]\n",
    "        \n",
    "    lst[left] = tmp  # 把tmp归位\n",
    "#     print(lst)\n",
    "    return left"
   ]
  },
  {
   "cell_type": "code",
   "execution_count": 31,
   "id": "fbf5db79",
   "metadata": {},
   "outputs": [
    {
     "data": {
      "text/plain": [
       "[5, 7, 4, 6, 3, 1, 2, 9, 8]"
      ]
     },
     "execution_count": 31,
     "metadata": {},
     "output_type": "execute_result"
    }
   ],
   "source": [
    "lst = [5,7,4,6,3,1,2,9,8]\n",
    "lst"
   ]
  },
  {
   "cell_type": "code",
   "execution_count": 32,
   "id": "fdc5f4e1",
   "metadata": {},
   "outputs": [
    {
     "data": {
      "text/plain": [
       "[2, 1, 4, 3, 5, 6, 7, 9, 8]"
      ]
     },
     "execution_count": 32,
     "metadata": {},
     "output_type": "execute_result"
    }
   ],
   "source": [
    "partition(lst, 0, len(lst)-1)  # 第一次归位\n",
    "lst"
   ]
  },
  {
   "cell_type": "code",
   "execution_count": 55,
   "id": "a153148b",
   "metadata": {},
   "outputs": [],
   "source": [
    "def quick_sort(lst, left, right):\n",
    "    if left < right:\n",
    "        mid = partition(lst, left, right)\n",
    "        quick_sort(lst, left, mid-1)\n",
    "        quick_sort(lst, mid+1, right)"
   ]
  },
  {
   "cell_type": "code",
   "execution_count": 56,
   "id": "b9f66043",
   "metadata": {},
   "outputs": [
    {
     "data": {
      "text/plain": [
       "[1, 2, 3, 4, 5, 6, 7, 8, 9]"
      ]
     },
     "execution_count": 56,
     "metadata": {},
     "output_type": "execute_result"
    }
   ],
   "source": [
    "lst = [5,7,4,6,3,1,2,9,8]\n",
    "quick_sort(lst, 0, len(lst)-1)\n",
    "lst "
   ]
  },
  {
   "cell_type": "code",
   "execution_count": null,
   "id": "cd6bfd1a",
   "metadata": {},
   "outputs": [],
   "source": []
  },
  {
   "cell_type": "markdown",
   "id": "525bb15f",
   "metadata": {},
   "source": [
    "### 5.堆排序"
   ]
  },
  {
   "cell_type": "code",
   "execution_count": null,
   "id": "891e5a5a",
   "metadata": {},
   "outputs": [],
   "source": []
  },
  {
   "cell_type": "code",
   "execution_count": null,
   "id": "e9d91aaa",
   "metadata": {},
   "outputs": [],
   "source": []
  },
  {
   "cell_type": "code",
   "execution_count": null,
   "id": "22cfe3e1",
   "metadata": {},
   "outputs": [],
   "source": []
  },
  {
   "cell_type": "code",
   "execution_count": null,
   "id": "f0afaf9b",
   "metadata": {},
   "outputs": [],
   "source": []
  },
  {
   "cell_type": "code",
   "execution_count": null,
   "id": "593199ba",
   "metadata": {},
   "outputs": [],
   "source": []
  },
  {
   "cell_type": "code",
   "execution_count": null,
   "id": "86b66292",
   "metadata": {},
   "outputs": [],
   "source": []
  },
  {
   "cell_type": "code",
   "execution_count": null,
   "id": "4c503aef",
   "metadata": {},
   "outputs": [],
   "source": []
  },
  {
   "cell_type": "markdown",
   "id": "282d9e31",
   "metadata": {},
   "source": [
    "### 6.归并排序"
   ]
  },
  {
   "cell_type": "code",
   "execution_count": null,
   "id": "4273b767",
   "metadata": {},
   "outputs": [],
   "source": []
  },
  {
   "cell_type": "code",
   "execution_count": null,
   "id": "90fb2f01",
   "metadata": {},
   "outputs": [],
   "source": []
  },
  {
   "cell_type": "code",
   "execution_count": null,
   "id": "3accdc48",
   "metadata": {},
   "outputs": [],
   "source": []
  },
  {
   "cell_type": "code",
   "execution_count": null,
   "id": "422a69e6",
   "metadata": {},
   "outputs": [],
   "source": []
  }
 ],
 "metadata": {
  "kernelspec": {
   "display_name": "Python 3",
   "language": "python",
   "name": "python3"
  },
  "language_info": {
   "codemirror_mode": {
    "name": "ipython",
    "version": 3
   },
   "file_extension": ".py",
   "mimetype": "text/x-python",
   "name": "python",
   "nbconvert_exporter": "python",
   "pygments_lexer": "ipython3",
   "version": "3.9.13"
  }
 },
 "nbformat": 4,
 "nbformat_minor": 5
}
